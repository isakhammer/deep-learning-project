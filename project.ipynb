{
  "nbformat": 4,
  "nbformat_minor": 0,
  "metadata": {
    "colab": {
      "name": "project.ipynb",
      "provenance": [],
      "collapsed_sections": [],
      "authorship_tag": "ABX9TyNNviSX6rmgd5XkwKvTjY/R",
      "include_colab_link": true
    },
    "kernelspec": {
      "name": "python3",
      "display_name": "Python 3"
    }
  },
  "cells": [
    {
      "cell_type": "markdown",
      "metadata": {
        "id": "view-in-github",
        "colab_type": "text"
      },
      "source": [
        "<a href=\"https://colab.research.google.com/github/isakhammer/deep_learning_project/blob/master/project.ipynb\" target=\"_parent\"><img src=\"https://colab.research.google.com/assets/colab-badge.svg\" alt=\"Open In Colab\"/></a>"
      ]
    },
    {
      "cell_type": "code",
      "metadata": {
        "id": "DW4u3R1RHyVJ"
      },
      "source": [
        "import numpy as np"
      ],
      "execution_count": 14,
      "outputs": []
    },
    {
      "cell_type": "markdown",
      "metadata": {
        "id": "jTCTpLF4HIom"
      },
      "source": [
        "**1. Implement functions for generating synthetic input data**\n",
        "\n",
        "\n",
        "$$\n",
        "f_1(p,q) = \\frac{1}{2}q^2 + \\frac{1}{2}p^2\n",
        "$$\n",
        "\n",
        "$$\n",
        "f_2(p,q) = \\frac{1}{2}q^2 \n",
        "$$\n",
        "\n",
        "$$\n",
        "f_4(y) = 1 - cos(y)\n",
        "$$\n",
        "\n"
      ]
    },
    {
      "cell_type": "code",
      "metadata": {
        "id": "gDwMTPvwHQDf"
      },
      "source": [
        "\n",
        "def generate_synthetic_batches(I,func = \"2sqr\"):\n",
        "    \n",
        "    batch = {} \n",
        "    \n",
        "    if func == \"2sqr\":\n",
        "        \n",
        "        d_0 = 2\n",
        "        batch[\"Y\"] = np.random.uniform(high=2, low=-2, size=(d_0,I) )    \n",
        "        batch[\"c\"] = 0.5*batch[\"Y\"][0,:]**2 + 0.5*batch[\"Y\"][1,:]**2\n",
        "        batch[\"c\"] = batch[\"c\"][:, np.newaxis]\n",
        "        \n",
        "        return batch\n",
        "    \n",
        "    elif func == \"1sqr\":\n",
        "        d_0 = 1\n",
        "        \n",
        "        batch[\"Y\"] = np.random.uniform(high=2, low=-2, size=(d_0,I) )\n",
        "        batch[\"c\"] = 0.5*(batch[\"Y\"])**2\n",
        "        batch[\"c\"] = batch[\"c\"].T\n",
        "        \n",
        "        return batch\n",
        "    \n",
        "    elif func == \"1cos\":\n",
        "        d_0 = 1\n",
        "        \n",
        "        batch[\"Y\"] = np.random.uniform(high=np.pi/3, low=-np.pi/3, size=(d_0,I) )\n",
        "        batch[\"c\"] = 1 - np.cos(batch[\"Y\"])\n",
        "        batch[\"c\"] = batch[\"c\"].T\n",
        "        \n",
        "        return batch\n",
        "    \n",
        "    else:\n",
        "        raise Exception(\"Not axeped func\")\n"
      ],
      "execution_count": 15,
      "outputs": []
    },
    {
      "cell_type": "code",
      "metadata": {
        "id": "FcxU-mDXHY8X"
      },
      "source": [
        ""
      ],
      "execution_count": 16,
      "outputs": []
    },
    {
      "cell_type": "markdown",
      "metadata": {
        "id": "mOUesxX5Ku5E"
      },
      "source": [
        "**2. Implement the neural network for training approximation of Hamiltonian function**\n",
        "\n"
      ]
    },
    {
      "cell_type": "code",
      "metadata": {
        "id": "0MSDfOEQLAES"
      },
      "source": [
        "\n"
      ],
      "execution_count": null,
      "outputs": []
    }
  ]
}