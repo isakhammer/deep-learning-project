{
  "nbformat": 4,
  "nbformat_minor": 0,
  "metadata": {
    "colab": {
      "name": "project.ipynb",
      "provenance": [],
      "collapsed_sections": [],
      "authorship_tag": "ABX9TyPM2F2UBD6cgD7fLCWVig97",
      "include_colab_link": true
    },
    "kernelspec": {
      "name": "python3",
      "display_name": "Python 3"
    }
  },
  "cells": [
    {
      "cell_type": "markdown",
      "metadata": {
        "id": "view-in-github",
        "colab_type": "text"
      },
      "source": [
        "<a href=\"https://colab.research.google.com/github/isakhammer/deep_learning_project/blob/master/project.ipynb\" target=\"_parent\"><img src=\"https://colab.research.google.com/assets/colab-badge.svg\" alt=\"Open In Colab\"/></a>"
      ]
    },
    {
      "cell_type": "code",
      "metadata": {
        "id": "DW4u3R1RHyVJ"
      },
      "source": [
        "import numpy as np"
      ],
      "execution_count": 14,
      "outputs": []
    },
    {
      "cell_type": "markdown",
      "metadata": {
        "id": "jTCTpLF4HIom"
      },
      "source": [
        "**1. Implement functions for generating synthetic input data**\n",
        "\n",
        "\n",
        "$$\n",
        "f_1(p,q) = \\frac{1}{2}q^2 + \\frac{1}{2}p^2\n",
        "$$\n",
        "\n",
        "$$\n",
        "f_2(p,q) = \\frac{1}{2}q^2 \n",
        "$$\n",
        "\n",
        "$$\n",
        "f_4(y) = 1 - cos(y)\n",
        "$$\n",
        "\n"
      ]
    },
    {
      "cell_type": "code",
      "metadata": {
        "id": "gDwMTPvwHQDf"
      },
      "source": [
        "\n",
        "def generate_synthetic_batches(I,func = \"2sqr\"):\n",
        "    \n",
        "    batch = {} \n",
        "    \n",
        "    if func == \"2sqr\":\n",
        "        \n",
        "        d_0 = 2\n",
        "        batch[\"Y\"] = np.random.uniform(high=2, low=-2, size=(d_0,I) )    \n",
        "        batch[\"c\"] = 0.5*batch[\"Y\"][0,:]**2 + 0.5*batch[\"Y\"][1,:]**2\n",
        "        batch[\"c\"] = batch[\"c\"][:, np.newaxis]\n",
        "        \n",
        "        return batch\n",
        "    \n",
        "    elif func == \"1sqr\":\n",
        "        d_0 = 1\n",
        "        \n",
        "        batch[\"Y\"] = np.random.uniform(high=2, low=-2, size=(d_0,I) )\n",
        "        batch[\"c\"] = 0.5*(batch[\"Y\"])**2\n",
        "        batch[\"c\"] = batch[\"c\"].T\n",
        "        \n",
        "        return batch\n",
        "    \n",
        "    elif func == \"1cos\":\n",
        "        d_0 = 1\n",
        "        \n",
        "        batch[\"Y\"] = np.random.uniform(high=np.pi/3, low=-np.pi/3, size=(d_0,I) )\n",
        "        batch[\"c\"] = 1 - np.cos(batch[\"Y\"])\n",
        "        batch[\"c\"] = batch[\"c\"].T\n",
        "        \n",
        "        return batch\n",
        "    \n",
        "    else:\n",
        "        raise Exception(\"Not axeped func\")\n"
      ],
      "execution_count": 15,
      "outputs": []
    },
    {
      "cell_type": "code",
      "metadata": {
        "id": "FcxU-mDXHY8X"
      },
      "source": [
        ""
      ],
      "execution_count": 16,
      "outputs": []
    },
    {
      "cell_type": "markdown",
      "metadata": {
        "id": "mOUesxX5Ku5E"
      },
      "source": [
        "**2. Implement the neural network for training approximation of Hamiltonian function**\n",
        "\n",
        "\n",
        "\n"
      ]
    },
    {
      "cell_type": "markdown",
      "metadata": {
        "id": "0PodXYaWSJ1d"
      },
      "source": [
        "$$\n",
        "\\tilde{F}(Y; \\theta) = \\eta((Z^{(K)})^T w + \\mu \\mathbf{1} ) \n",
        "$$\n",
        "where \n",
        "$$\n",
        "Z^{(k+1)} = Z^{(K)} + h  \\sigma(W_k Z^{(k)} + b_1 ) \\\\\n",
        "Z^{(0)} = \\hat{I} Y.\n",
        "$$\n",
        "Here is a\n",
        "\n",
        "$$\n",
        "\\hat{I} = \n",
        "\\begin{bmatrix}\n",
        "I_{d_0 \\times d_0} \\\\\n",
        "0\n",
        "\\end{bmatrix}\n",
        "$$\n",
        "\n",
        "The cost function is on the form \n",
        "\n",
        "$$\n",
        "J(\\theta) = \\frac{1}{2} \\lVert  \\tilde{F} (Y; \\theta) - c \\rVert \n",
        "$$\n",
        "\n",
        "where the gradient is \n",
        "\n",
        "\n"
      ]
    },
    {
      "cell_type": "code",
      "metadata": {
        "id": "0MSDfOEQLAES"
      },
      "source": [
        "def F_tilde(Y, th, d_0, d_k, K, h):\n",
        "    \n",
        "    Z = {}\n",
        "    dsigma = {}\n",
        "    \n",
        "    I_d = np.identity(d_k)[:,:d_0]\n",
        "    Z[0] = I_d@Y\n",
        "    \n",
        "    \n",
        "    Z_hat= th[\"W0\"]@Z[0]+th[\"b0\"]\n",
        "    dsigma[0] = sigma( Z_hat, True)\n",
        "    \n",
        "    for k in range(K):\n",
        "        Z_hat = th[\"W\"+str(k)]@Z[k]+th[\"b\"+str(k)]\n",
        "        Z[k+1] = Z[k] + h*sigma(Z_hat, False)\n",
        "        dsigma[k+1] = sigma(Z_hat, True)\n",
        "    \n",
        "    Upsilon = eta(Z[K].T@th[\"w\"]+th[\"mu\"])\n",
        "    dUpsilon = eta(Z[K].T@th[\"w\"]+th[\"mu\"], derivative=True)\n",
        "    \n",
        "    return Z, Upsilon, dUpsilon, dsigma\n",
        "\n",
        "\n",
        "def grad_J(c ,Y, th, d_0, d_k, K, h):\n",
        "    \n",
        "    I =  Y.shape[1]\n",
        "    \n",
        "    # Equation 5\n",
        "    Z, Upsilon, dUpsilon, dsigma = F_tilde(Y, th, d_0, d_k, K, h) \n",
        "    \n",
        "    # Equation 6\n",
        "    J = 0.5*np.linalg.norm(Upsilon - c)**2\n",
        "\n",
        "    # Initializing gradient\n",
        "    dJ = {}\n",
        "\n",
        "    # Equation (8)  \n",
        "    dJ[\"mu\"]   =  dUpsilon.T@(Upsilon - c)\n",
        "        \n",
        "    # Equation (9)\n",
        "    dJ[\"w\"] = Z[K]@((Upsilon - c)* dUpsilon)\n",
        "        \n",
        "    # Equation (10)\n",
        "    P = np.zeros(( K+1, d_k, I))\n",
        "    P[-1] = th[\"w\"] @ ((Upsilon - c)* dUpsilon).T\n",
        "        \n",
        "    # Equation 11\n",
        "    for k in range(K-1,-1,-1):\n",
        "        P[k] = P[k+1] + h*th[\"W\"+str(k)].T @ (dsigma[k] * P[k+1])  \n",
        "    \n",
        "    for k in range(0, K):\n",
        "        # Equation 12\n",
        "        dJ[\"W\"+str(k)] = h*(P[k+1] * dsigma[k])@(Z[k]).T\n",
        "        \n",
        "        # Equation 13\n",
        "        dJ[\"b\"+str(k)] = h*(P[k+1] * dsigma[k])@np.ones((I,1))\n",
        "    \n",
        "    return J, dJ\n"
      ],
      "execution_count": null,
      "outputs": []
    },
    {
      "cell_type": "code",
      "metadata": {
        "id": "9M53gMf1UwGf"
      },
      "source": [
        ""
      ],
      "execution_count": null,
      "outputs": []
    }
  ]
}