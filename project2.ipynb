{
  "nbformat": 4,
  "nbformat_minor": 0,
  "metadata": {
    "colab": {
      "name": "project1.ipynb",
      "provenance": [],
      "authorship_tag": "ABX9TyPUi72DFuxqWfbOlNaZ+vx9",
      "include_colab_link": true
    },
    "kernelspec": {
      "name": "python3",
      "display_name": "Python 3"
    }
  },
  "cells": [
    {
      "cell_type": "markdown",
      "metadata": {
        "id": "view-in-github",
        "colab_type": "text"
      },
      "source": [
        "<a href=\"https://colab.research.google.com/github/isakhammer/numerical-mathematics-project-2/blob/master/project2.ipynb\" target=\"_parent\"><img src=\"https://colab.research.google.com/assets/colab-badge.svg\" alt=\"Open In Colab\"/></a>"
      ]
    },
    {
      "cell_type": "markdown",
      "metadata": {
        "id": "c8N1KmBCnwvi"
      },
      "source": [
        "**Main Concept**\n",
        "\n",
        "Compare Integrators, and ODE-networks vs Hamilton Networks. \n"
      ]
    },
    {
      "cell_type": "markdown",
      "metadata": {
        "id": "79ZI4eRpjw6m"
      },
      "source": [
        "**Generate Synthetic Input Data**\n",
        "\n",
        "\n",
        "Synthetic data is \"any production data applicable to a given situation that are not obtained by direct measurement\"\n"
      ]
    },
    {
      "cell_type": "code",
      "metadata": {
        "id": "oZs9dEvqjzq9",
        "outputId": "cb2ffa5f-fab5-421e-a4e0-6b894c69f12a",
        "colab": {
          "base_uri": "https://localhost:8080/",
          "height": 128
        }
      },
      "source": [
        "\"\"\"\n",
        "Generate data given A model. \n",
        "\n",
        "Input:\n",
        "  Model 1\n",
        "\n",
        "\"\"\"\n",
        "\n",
        "def generate_data(model):\n",
        "  if model ==\"0\":\n",
        "    for \n",
        "\n",
        "\n",
        "def RK4(x0, t0, T, f, h):\n",
        "  N = (T - t0)/h\n",
        "  \n",
        "  xi = x0\n",
        "  ti = t0\n",
        "  while ti < T:\n",
        "    k1 = f(xi, ti)\n",
        "    k2 = f(xi + h*k1*0.5, ti + h*0.5)\n",
        "    k3 = f(xi + h*k2*0.5, ti + h*0.5)\n",
        "    k4 = f(xi + h*k3, ti + h)\n",
        "    xi += (h/6)*(k1 + k2*2 + k3*2 +k4) \n"
      ],
      "execution_count": 1,
      "outputs": [
        {
          "output_type": "error",
          "ename": "SyntaxError",
          "evalue": "ignored",
          "traceback": [
            "\u001b[0;36m  File \u001b[0;32m\"<ipython-input-1-13b85475df26>\"\u001b[0;36m, line \u001b[0;32m11\u001b[0m\n\u001b[0;31m    for\u001b[0m\n\u001b[0m        ^\u001b[0m\n\u001b[0;31mSyntaxError\u001b[0m\u001b[0;31m:\u001b[0m invalid syntax\n"
          ]
        }
      ]
    },
    {
      "cell_type": "code",
      "metadata": {
        "id": "E1-Bym3Bm3dc"
      },
      "source": [
        ""
      ],
      "execution_count": null,
      "outputs": []
    }
  ]
}