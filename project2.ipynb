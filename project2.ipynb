{
  "nbformat": 4,
  "nbformat_minor": 0,
  "metadata": {
    "colab": {
      "name": "project1.ipynb",
      "provenance": [],
      "authorship_tag": "ABX9TyPhpy/U9A6zi/pSBhffMW07",
      "include_colab_link": true
    },
    "kernelspec": {
      "name": "python3",
      "display_name": "Python 3"
    }
  },
  "cells": [
    {
      "cell_type": "markdown",
      "metadata": {
        "id": "view-in-github",
        "colab_type": "text"
      },
      "source": [
        "<a href=\"https://colab.research.google.com/github/isakhammer/numerical-mathematics-project-2/blob/master/project2.ipynb\" target=\"_parent\"><img src=\"https://colab.research.google.com/assets/colab-badge.svg\" alt=\"Open In Colab\"/></a>"
      ]
    },
    {
      "cell_type": "markdown",
      "metadata": {
        "id": "c8N1KmBCnwvi"
      },
      "source": [
        "**Main Concept**\n",
        "\n",
        "Compare Integrators, and ODE-networks vs Hamilton Networks. \n"
      ]
    },
    {
      "cell_type": "markdown",
      "metadata": {
        "id": "79ZI4eRpjw6m"
      },
      "source": [
        "**Generate Synthetic Input Data**\n",
        "\n",
        "\n",
        "Synthetic data is \"any production data applicable to a given situation that are not obtained by direct measurement\"\n"
      ]
    },
    {
      "cell_type": "code",
      "metadata": {
        "id": "UyW3C6pmlE7l"
      },
      "source": [
        "import numpy as np\n",
        "import matplotlib.pyplot as plt"
      ],
      "execution_count": 2,
      "outputs": []
    },
    {
      "cell_type": "code",
      "metadata": {
        "id": "LBTwGc4X46Qs",
        "outputId": "e65ef9fa-d56c-4a9f-e143-e23cac7169cf",
        "colab": {
          "base_uri": "https://localhost:8080/",
          "height": 51
        }
      },
      "source": [
        "\"\"\"\n",
        "\n",
        "def RK4(x0, t0, T, f, h):\n",
        "  N = (T - t0)/h\n",
        "  \n",
        "  xi = x0\n",
        "  ti = t0\n",
        "  while ti < T:\n",
        "    k1 = f(xi, ti)\n",
        "    k2 = f(xi + h*k1*0.5, ti + h*0.5)\n",
        "    k3 = f(xi + h*k2*0.5, ti + h*0.5)\n",
        "    k4 = f(xi + h*k3, ti + h)\n",
        "    xi += (h/6)*(k1 + k2*2 + k3*2 +k4) \n",
        "\"\"\""
      ],
      "execution_count": 3,
      "outputs": [
        {
          "output_type": "execute_result",
          "data": {
            "application/vnd.google.colaboratory.intrinsic+json": {
              "type": "string"
            },
            "text/plain": [
              "'\\n\\ndef RK4(x0, t0, T, f, h):\\n  N = (T - t0)/h\\n  \\n  xi = x0\\n  ti = t0\\n  while ti < T:\\n    k1 = f(xi, ti)\\n    k2 = f(xi + h*k1*0.5, ti + h*0.5)\\n    k3 = f(xi + h*k2*0.5, ti + h*0.5)\\n    k4 = f(xi + h*k3, ti + h)\\n    xi += (h/6)*(k1 + k2*2 + k3*2 +k4) \\n'"
            ]
          },
          "metadata": {
            "tags": []
          },
          "execution_count": 3
        }
      ]
    },
    {
      "cell_type": "code",
      "metadata": {
        "id": "oZs9dEvqjzq9"
      },
      "source": [
        "\n",
        "\n",
        "\"\"\"\n",
        "Symplectic Euler Method.\n",
        "\n",
        "Notation:\n",
        "d - dimensions of p,q\n",
        "p - Generalized Coordinates\n",
        "q - Conjugate momenta\n",
        "V -  Potential energy function\n",
        "T - Kinetic energy function\n",
        "\n",
        "Input:\n",
        " p0: (d,1) numpy array of inital values\n",
        " q0: (d,1) numpy array of inital values\n",
        " t0: Inital time\n",
        " T:  Terminal time\n",
        " dV: Function dV(q)/dq\n",
        " dT: Function dT(p)/dp\n",
        "Output:\n",
        "  q: (d, N) numpy array of all values from t0,T\n",
        "  p: (d, N) numpy array of all values from t0,T\n",
        "  t: (1, N) numpy array for time\n",
        "\n",
        "\"\"\"\n",
        "\n",
        "def symplectic_euler_method(p0, q0, t0, T, h, dV, dT):\n",
        "  \n",
        "  N = int(T/h)\n",
        "  p = np.zeros((p0.shape[0], N))\n",
        "  q = np.zeros((q0.shape[0], N))\n",
        "  t = np.zeros((1, N))\n",
        "\n",
        "  p[0] = p0\n",
        "  q[0] = q0\n",
        "  t[0] = t0\n",
        "\n",
        "  for i in range(N):\n",
        "    q[:,i] = q[:,i-1] + h*dT(p[:,i-1])\n",
        "    p[: n,i] = p[:,i-1] - h*dT(q[:,i])\n",
        "    t[:,i] = t[:,i-1] + h\n",
        "\n",
        "  return p,q,t\n",
        "\n"
      ],
      "execution_count": 4,
      "outputs": []
    },
    {
      "cell_type": "markdown",
      "metadata": {
        "id": "dxzlWwhgpnO6"
      },
      "source": [
        "Størmer-Verlet is formulated as \n",
        "$$\n",
        "\\begin{align}\n",
        "p_{n+1/2} &= p_n - \\frac{\\Delta t}{2} \\frac{\\partial V}{\\partial q} (q_n) \\\\\n",
        "q_{n+1} &= q_n + \\Delta t \\frac{\\partial T}{\\partial p} (p_{n + 1/2}) \\\\\n",
        "p_{n+1} &= p_{n + 1/2} - \\frac{\\Delta t}{2} \\frac{\\partial V}{\\partial q} (q_{n+1})\n",
        "\\end{align}\n",
        "$$\n",
        "\n",
        "Source: Equation (14) in the project description."
      ]
    },
    {
      "cell_type": "code",
      "metadata": {
        "id": "FB99pHdEuX5k"
      },
      "source": [
        "\n",
        "\"\"\"\n",
        "Stormler Vermet.\n",
        "\n",
        "Notation:\n",
        "d - dimensions of p,q\n",
        "p - Generalized Coordinates\n",
        "q - Conjugate momenta\n",
        "V -  Potential energy function\n",
        "T - Kinetic energy function\n",
        "\n",
        "Input:\n",
        " p0: (d,1) numpy array of inital values\n",
        " q0: (d,1) numpy array of inital values\n",
        " t0: Inital time\n",
        " T:  Terminal time\n",
        " dV: Function dV(q)/dq\n",
        " dT: Function dT(p)/dp\n",
        "Output:\n",
        "  q: (d, N) numpy array of all values from t0,T\n",
        "  p: (d, N) numpy array of all values from t0,T\n",
        "  t: (1, N) numpy array for time\n",
        "\n",
        "\"\"\"\n",
        "\n",
        "def stormer_verlet(p0, q0, t0, T, h, dV, dT):\n",
        "  \n",
        "  N = int(T/h)\n",
        "  p = np.zeros((p0.shape[0], N))\n",
        "  q = np.zeros((q0.shape[0], N))\n",
        "  t = np.zeros((1, N))\n",
        "\n",
        "  p[0] = p0\n",
        "  q[0] = q0\n",
        "  t[0] = t0\n",
        "\n",
        "  for i in range(N):\n",
        "    phat = p[:,i-1] - 0.5*h*dV(q[:,i-1])\n",
        "    q[:, i] = q[:, i-1] + h*dT(phat)\n",
        "    p[:, i] = phat - 0.5*h*dT(q[:,i])\n",
        "    t[:,i] = t[:,i-1] + h\n",
        "\n",
        "  return p,q,t"
      ],
      "execution_count": 5,
      "outputs": []
    },
    {
      "cell_type": "markdown",
      "metadata": {
        "id": "kj4AzdxiwHYX"
      },
      "source": [
        "\n",
        "**Non-linear Pendulum Example**\n",
        "\n",
        "Let the hamiltion function be\n",
        "$$\n",
        "H(p,q) = T(p,q) + V(p,q) = (1/2)\\cdot p^T p - cos(q) \n",
        "$$\n",
        "then is the derivates mentioned as\n",
        "\n",
        "$$\n",
        "\\begin{align}\n",
        "\\frac{\\partial H (p,q)}{ \\partial p} &= \\frac{\\partial T (p,q)}{ \\partial p} = p \\\\\n",
        "\\frac{\\partial H (p,q)}{ \\partial q} &= \\frac{\\partial V (p,q)}{ \\partial q} = cos(q)\n",
        "\\end{align}\n",
        "$$\n"
      ]
    },
    {
      "cell_type": "code",
      "metadata": {
        "id": "0qnF6ozRrkDI",
        "outputId": "063ac1fe-0a36-440a-8d92-6bbebaa39289",
        "colab": {
          "base_uri": "https://localhost:8080/",
          "height": 278
        }
      },
      "source": [
        "def dV_pendulum(q):\n",
        "  return -np.cos(q)\n",
        "\n",
        "def dT_pendulum(p):\n",
        "  return p\n",
        "\n",
        "\n",
        "def non_linear_pendulum():\n",
        "  \n",
        "  q0 = np.array([0])\n",
        "  p0 = np.array([1])\n",
        "\n",
        "  T = 4\n",
        "  t0 = 0\n",
        "  h = 0.1\n",
        "  p, q, t = stormer_verlet(p0, q0, t0, T, h, dV_pendulum, dT_pendulum)\n",
        "\n",
        "  plt.title(\"\")\n",
        "  plt.scatter(p,q)\n",
        "  plt.plot(p[0], q[0],  linewidth=4) \n",
        "  plt.xlabel(\"p\")\n",
        "  plt.ylabel(\"q\")\n",
        "  plt.plot()\n",
        "\n",
        "non_linear_pendulum()\n"
      ],
      "execution_count": 6,
      "outputs": [
        {
          "output_type": "display_data",
          "data": {
            "image/png": "[encoded data removed]",
            "text/plain": [
              "<Figure size 432x288 with 1 Axes>"
            ]
          },
          "metadata": {
            "tags": [],
            "needs_background": "light"
          }
        }
      ]
    },
    {
      "cell_type": "code",
      "metadata": {
        "id": "nx9OsjGn6rdp"
      },
      "source": [
        ""
      ],
      "execution_count": 6,
      "outputs": []
    },
    {
      "cell_type": "code",
      "metadata": {
        "id": "MN8yxil66Wnm"
      },
      "source": [
        "def dV_kepler(q):\n",
        "  return \n",
        "  \n",
        "def dT_kepler(p):\n",
        "  return p\n",
        "\n",
        "\n",
        "def kepler_two_body():\n",
        "\n",
        "  q0 = np.array([0])\n",
        "  p0 = np.array([1])\n",
        "\n",
        "  T = 4\n",
        "  t0 = 0\n",
        "  h = 0.1\n",
        "  p, q, t = symplectic_euler_method(p0, q0, t0, T, h, dV_pendulum, dT_pendulum)\n",
        "\n",
        "  plt.title(\"\")\n",
        "  plt.scatter(p,q)\n",
        "  plt.plot(p[0], q[0],  linewidth=4) \n",
        "  plt.xlabel(\"p\")\n",
        "  plt.ylabel(\"q\")\n",
        "  plt.plot()\n",
        "\n",
        "\n"
      ],
      "execution_count": 8,
      "outputs": []
    },
    {
      "cell_type": "code",
      "metadata": {
        "id": "3RfAW9JlzoMv",
        "outputId": "5b46f684-1b39-486b-9ec0-0529e0ccf289",
        "colab": {
          "base_uri": "https://localhost:8080/",
          "height": 128
        }
      },
      "source": [
        "import random as r\n",
        "\n",
        "\n",
        "def sigmoid(x):\n",
        "  return np.tanh(x)\n",
        "  \n",
        "\n",
        "def identity(x):\n",
        "  return x\n",
        "\n",
        "def train_neural_network():\n",
        "\n",
        "  # activation function.\n",
        "  sigma = identity\n",
        "\n",
        "  # inital values.\n",
        "  K = 10\n",
        "  tau = 10\n",
        "  h = 0.1\n",
        "  dim = 10\n",
        "  Y0 = np.random.rand(dim)\n",
        "  tol =  0.1\n",
        "  \n",
        "  # Make random inital valyues.\n",
        "  while (np.linalg.norm(e) > tol ):\n",
        "    for k in range(K):\n",
        "      #compute Zk from (4)\n",
        "      Z[k+1] = Zk + h*sigma(Ak@Zk + bk) \n",
        "    \n",
        "    # Compute P^k from (10)\n",
        "    # Calculate projection (8),(9)\n",
        "    for k in (K-1):\n",
        "      # Compute (12) and (13)\n",
        "    \n",
        "    # Update W_k and b_k as in (7) or from Adam Method. \n",
        "\n",
        "    # If adam good, return true. \n"
      ],
      "execution_count": 9,
      "outputs": [
        {
          "output_type": "error",
          "ename": "IndentationError",
          "evalue": "ignored",
          "traceback": [
            "\u001b[0;36m  File \u001b[0;32m\"<ipython-input-9-afa86a9fddd2>\"\u001b[0;36m, line \u001b[0;32m15\u001b[0m\n\u001b[0;31m    for k in (K-1):\u001b[0m\n\u001b[0m      ^\u001b[0m\n\u001b[0;31mIndentationError\u001b[0m\u001b[0;31m:\u001b[0m expected an indented block\n"
          ]
        }
      ]
    },
    {
      "cell_type": "code",
      "metadata": {
        "id": "E1-Bym3Bm3dc"
      },
      "source": [
        ""
      ],
      "execution_count": null,
      "outputs": []
    }
  ]
}