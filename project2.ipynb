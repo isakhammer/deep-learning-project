{
  "nbformat": 4,
  "nbformat_minor": 0,
  "metadata": {
    "colab": {
      "name": "project1.ipynb",
      "provenance": [],
      "authorship_tag": "ABX9TyOEnjO7vSP82gsDwHcnohRb",
      "include_colab_link": true
    },
    "kernelspec": {
      "name": "python3",
      "display_name": "Python 3"
    }
  },
  "cells": [
    {
      "cell_type": "markdown",
      "metadata": {
        "id": "view-in-github",
        "colab_type": "text"
      },
      "source": [
        "<a href=\"https://colab.research.google.com/github/isakhammer/numerical-mathematics-project-2/blob/master/project2.ipynb\" target=\"_parent\"><img src=\"https://colab.research.google.com/assets/colab-badge.svg\" alt=\"Open In Colab\"/></a>"
      ]
    },
    {
      "cell_type": "markdown",
      "metadata": {
        "id": "c8N1KmBCnwvi"
      },
      "source": [
        "**Main Concept**\n",
        "\n",
        "Compare Integrators, and ODE-networks vs Hamilton Networks. \n"
      ]
    },
    {
      "cell_type": "markdown",
      "metadata": {
        "id": "79ZI4eRpjw6m"
      },
      "source": [
        "**Generate Synthetic Input Data**\n",
        "\n",
        "\n",
        "Synthetic data is \"any production data applicable to a given situation that are not obtained by direct measurement\"\n"
      ]
    },
    {
      "cell_type": "code",
      "metadata": {
        "id": "UyW3C6pmlE7l"
      },
      "source": [
        "import numpy as np\n",
        "import matplotlib.pyplot as plt"
      ],
      "execution_count": 59,
      "outputs": []
    },
    {
      "cell_type": "code",
      "metadata": {
        "id": "LBTwGc4X46Qs"
      },
      "source": [
        "\"\"\"\n",
        "\n",
        "def RK4(x0, t0, T, f, h):\n",
        "  N = (T - t0)/h\n",
        "  \n",
        "  xi = x0\n",
        "  ti = t0\n",
        "  while ti < T:\n",
        "    k1 = f(xi, ti)\n",
        "    k2 = f(xi + h*k1*0.5, ti + h*0.5)\n",
        "    k3 = f(xi + h*k2*0.5, ti + h*0.5)\n",
        "    k4 = f(xi + h*k3, ti + h)\n",
        "    xi += (h/6)*(k1 + k2*2 + k3*2 +k4) \n",
        "\"\"\""
      ],
      "execution_count": null,
      "outputs": []
    },
    {
      "cell_type": "code",
      "metadata": {
        "id": "oZs9dEvqjzq9"
      },
      "source": [
        "\n",
        "\n",
        "\"\"\"\n",
        "Symplectic Euler Method for 2 dim.\n",
        "\n",
        "Notation:\n",
        "d - dimensions of p,q\n",
        "p - Generalized Coordinates\n",
        "q - Conjugate momenta\n",
        "V -  Potential energy function\n",
        "T - Kinetic energy function\n",
        "\n",
        "Input:\n",
        " p0: (d,1) numpy array of inital values\n",
        " q0: (d,1) numpy array of inital values\n",
        " t0: Inital time\n",
        " T:  Terminal time\n",
        " dV: Function dV(q)/dq\n",
        " dT: Function dT(p)/dp\n",
        "Output:\n",
        "  q: (d, N) numpy array of all values from t0,T\n",
        "  p: (d, N) numpy array of all values from t0,T\n",
        "  t: (1, N) numpy array for time\n",
        "\n",
        "\"\"\"\n",
        "\n",
        "def symplectic_euler_method(p0, q0, t0, T, h, dV, dT):\n",
        "  \n",
        "  N = int(T/h)\n",
        "  p = np.zeros((p0.shape[0], N))\n",
        "  q = np.zeros((q0.shape[0], N))\n",
        "  t = np.zeros((1, N))\n",
        "\n",
        "  p[0] = p0\n",
        "  q[0] = q0\n",
        "  t[0] = t0\n",
        "\n",
        "  for i in range(N):\n",
        "    q[:,i] = q[:,i-1] + h*dT(p[:,i-1])\n",
        "    p[:,i] = p[:,i-1] - h*dT(q[:,i])\n",
        "    t[:,i] = t[:,i-1] + h\n",
        "\n",
        "  return p,q,t\n"
      ],
      "execution_count": 60,
      "outputs": []
    },
    {
      "cell_type": "code",
      "metadata": {
        "id": "0qnF6ozRrkDI",
        "outputId": "02623f3a-de78-49f9-960e-e4a05cbbbe60",
        "colab": {
          "base_uri": "https://localhost:8080/",
          "height": 498
        }
      },
      "source": [
        "\n",
        "def main():\n",
        "  def H_pendumlum(p, q):\n",
        "    return 0.5*p*2 - cos(q)\n",
        "  \n",
        "  def dV_pendulum(q):\n",
        "    return -np.cos(q)\n",
        "\n",
        "  def dT_pendulum(p):\n",
        "    return p\n",
        "\n",
        "  q0 = np.array([0])\n",
        "  p0 = np.array([1])\n",
        "\n",
        "  T = 4\n",
        "  t0 = 0\n",
        "  h = 0.1\n",
        "  p, q, t = symplectic_euler_method(p0, q0, t0, T, h, dV_pendulum, dT_pendulum)\n",
        "\n",
        "  plt.title(\"\")\n",
        "  plt.scatter(p,q)\n",
        "  plt.plot(p[0], q[0],  linewidth=4) \n",
        "  print(q,p)\n",
        "  plt.xlabel(\"p\")\n",
        "  plt.ylabel(\"q\")\n",
        "  plt.plot()\n",
        "\n",
        "main()"
      ],
      "execution_count": 76,
      "outputs": [
        {
          "output_type": "stream",
          "text": [
            "[[ 0.1         0.199       0.29601     0.3900599   0.4802092   0.56555641\n",
            "   0.64524805  0.71848722  0.78454151  0.84275039  0.89253176  0.93338782\n",
            "   0.96490999  0.98678307  0.99878832  1.00080568  0.99281499  0.97489615\n",
            "   0.94722834  0.91008825  0.86384728  0.80896784  0.74599872  0.67556961\n",
            "   0.5983848   0.51521615  0.42689534  0.33430557  0.23837274  0.14005619\n",
            "   0.04033908 -0.05978142 -0.15930411 -0.25723376 -0.35259107 -0.44442247\n",
            "  -0.53180965 -0.61387873 -0.68980902 -0.75884122]] [[ 0.99        0.9701      0.940499    0.90149301  0.85347209  0.79691645\n",
            "   0.73239164  0.66054292  0.58208877  0.49781373  0.40856056  0.31522177\n",
            "   0.21873077  0.12005247  0.02017364 -0.07990693 -0.17918843 -0.27667805\n",
            "  -0.37140088 -0.46240971 -0.54879443 -0.62969122 -0.70429109 -0.77184805\n",
            "  -0.83168653 -0.88320815 -0.92589768 -0.95932824 -0.98316551 -0.99717113\n",
            "  -1.00120504 -0.9952269  -0.97929648 -0.95357311 -0.918314   -0.87387175\n",
            "  -0.82069079 -0.75930292 -0.69032201 -0.61443789]]\n"
          ],
          "name": "stdout"
        },
        {
          "output_type": "display_data",
          "data": {
            "image/png": "[encoded data removed]",
            "text/plain": [
              "<Figure size 432x288 with 1 Axes>"
            ]
          },
          "metadata": {
            "tags": [],
            "needs_background": "light"
          }
        }
      ]
    },
    {
      "cell_type": "code",
      "metadata": {
        "id": "3RfAW9JlzoMv"
      },
      "source": [
        "\n",
        "\n"
      ],
      "execution_count": null,
      "outputs": []
    },
    {
      "cell_type": "code",
      "metadata": {
        "id": "E1-Bym3Bm3dc"
      },
      "source": [
        ""
      ],
      "execution_count": null,
      "outputs": []
    }
  ]
}