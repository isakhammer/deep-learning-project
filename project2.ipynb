{
  "nbformat": 4,
  "nbformat_minor": 0,
  "metadata": {
    "colab": {
      "name": "project1.ipynb",
      "provenance": [],
      "authorship_tag": "ABX9TyOLd2VJvBy/auVpZ/Ea+S60",
      "include_colab_link": true
    },
    "kernelspec": {
      "name": "python3",
      "display_name": "Python 3"
    }
  },
  "cells": [
    {
      "cell_type": "markdown",
      "metadata": {
        "id": "view-in-github",
        "colab_type": "text"
      },
      "source": [
        "<a href=\"https://colab.research.google.com/github/isakhammer/numerical-mathematics-project-2/blob/master/project2.ipynb\" target=\"_parent\"><img src=\"https://colab.research.google.com/assets/colab-badge.svg\" alt=\"Open In Colab\"/></a>"
      ]
    },
    {
      "cell_type": "markdown",
      "metadata": {
        "id": "c8N1KmBCnwvi"
      },
      "source": [
        "**Main Concept**\n",
        "\n",
        "Compare Integrators, and ODE-networks vs Hamilton Networks. \n"
      ]
    },
    {
      "cell_type": "markdown",
      "metadata": {
        "id": "79ZI4eRpjw6m"
      },
      "source": [
        "**Generate Synthetic Input Data**\n",
        "\n",
        "\n",
        "Synthetic data is \"any production data applicable to a given situation that are not obtained by direct measurement\"\n"
      ]
    },
    {
      "cell_type": "code",
      "metadata": {
        "id": "UyW3C6pmlE7l"
      },
      "source": [
        "import numpy as np\n",
        "import matplotlib.pyplot as plt"
      ],
      "execution_count": 59,
      "outputs": []
    },
    {
      "cell_type": "code",
      "metadata": {
        "id": "LBTwGc4X46Qs"
      },
      "source": [
        "\"\"\"\n",
        "\n",
        "def RK4(x0, t0, T, f, h):\n",
        "  N = (T - t0)/h\n",
        "  \n",
        "  xi = x0\n",
        "  ti = t0\n",
        "  while ti < T:\n",
        "    k1 = f(xi, ti)\n",
        "    k2 = f(xi + h*k1*0.5, ti + h*0.5)\n",
        "    k3 = f(xi + h*k2*0.5, ti + h*0.5)\n",
        "    k4 = f(xi + h*k3, ti + h)\n",
        "    xi += (h/6)*(k1 + k2*2 + k3*2 +k4) \n",
        "\"\"\""
      ],
      "execution_count": null,
      "outputs": []
    },
    {
      "cell_type": "code",
      "metadata": {
        "id": "oZs9dEvqjzq9"
      },
      "source": [
        "\n",
        "\n",
        "\"\"\"\n",
        "Symplectic Euler Method for 2 dim.\n",
        "\n",
        "Notation:\n",
        "d - dimensions of p,q\n",
        "p - Generalized Coordinates\n",
        "q - Conjugate momenta\n",
        "V -  Potential energy function\n",
        "T - Kinetic energy function\n",
        "\n",
        "Input:\n",
        " p0: (d,1) numpy array of inital values\n",
        " q0: (d,1) numpy array of inital values\n",
        " t0: Inital time\n",
        " T:  Terminal time\n",
        " dV: Function dV(q)/dq\n",
        " dT: Function dT(p)/dp\n",
        "Output:\n",
        "  q: (d, N) numpy array of all values from t0,T\n",
        "  p: (d, N) numpy array of all values from t0,T\n",
        "  t: (1, N) numpy array for time\n",
        "\n",
        "\"\"\"\n",
        "\n",
        "def symplectic_euler_method(p0, q0, t0, T, h, dV, dT):\n",
        "  \n",
        "  N = int(T/h)\n",
        "  p = np.zeros((p0.shape[0], N))\n",
        "  q = np.zeros((q0.shape[0], N))\n",
        "  t = np.zeros((1, N))\n",
        "\n",
        "  p[0] = p0\n",
        "  q[0] = q0\n",
        "  t[0] = t0\n",
        "\n",
        "  for i in range(N):\n",
        "    q[:,i] = q[:,i-1] + h*dT(p[:,i-1])\n",
        "    p[:,i] = p[:,i-1] - h*dT(q[:,i])\n",
        "    t[:,i] = t[:,i-1] + h\n",
        "\n",
        "  return p,q,t\n"
      ],
      "execution_count": 60,
      "outputs": []
    },
    {
      "cell_type": "code",
      "metadata": {
        "id": "0qnF6ozRrkDI",
        "outputId": "4c03c65f-6582-4cf3-9cf3-6287e0889df5",
        "colab": {
          "base_uri": "https://localhost:8080/",
          "height": 279
        }
      },
      "source": [
        "def H_pendumlum(p, q):\n",
        "    return 0.5*p*2 - cos(q)\n",
        "  \n",
        "def dV_pendulum(q):\n",
        "  return -np.cos(q)\n",
        "\n",
        "def dT_pendulum(p):\n",
        "  return p\n",
        "\n",
        "\n",
        "def non_linear_pendulum():\n",
        "  \n",
        "  q0 = np.array([0])\n",
        "  p0 = np.array([1])\n",
        "\n",
        "  T = 4\n",
        "  t0 = 0\n",
        "  h = 0.1\n",
        "  p, q, t = symplectic_euler_method(p0, q0, t0, T, h, dV_pendulum, dT_pendulum)\n",
        "\n",
        "  plt.title(\"\")\n",
        "  plt.scatter(p,q)\n",
        "  plt.plot(p[0], q[0],  linewidth=4) \n",
        "  plt.xlabel(\"p\")\n",
        "  plt.ylabel(\"q\")\n",
        "  plt.plot()\n",
        "\n",
        "non_linear_pendulum()\n"
      ],
      "execution_count": 80,
      "outputs": [
        {
          "output_type": "display_data",
          "data": {
            "image/png": "[encoded data removed]",
            "text/plain": [
              "<Figure size 432x288 with 1 Axes>"
            ]
          },
          "metadata": {
            "tags": [],
            "needs_background": "light"
          }
        }
      ]
    },
    {
      "cell_type": "code",
      "metadata": {
        "id": "nx9OsjGn6rdp",
        "outputId": "25f8df68-1cc2-4b0d-c65b-835d3eae97f2",
        "colab": {
          "base_uri": "https://localhost:8080/",
          "height": 295
        }
      },
      "source": [
        "\n",
        "def dV_pendulum(q):\n",
        "  return -np.cos(q)\n",
        "  \n",
        "def dT_pendulum(p):\n",
        "  return p\n",
        "\n",
        "\n",
        "def non_linear_pendulum():\n",
        "  \n",
        "  q0 = np.array([0])\n",
        "  p0 = np.array([1])\n",
        "\n",
        "  T = 4\n",
        "  t0 = 0\n",
        "  h = 0.1\n",
        "  p, q, t = symplectic_euler_method(p0, q0, t0, T, h, dV_pendulum, dT_pendulum)\n",
        "\n",
        "  plt.title(\"non-linear-pendulum\")\n",
        "  plt.scatter(p,q)\n",
        "  plt.plot(p[0], q[0],  linewidth=4) \n",
        "  plt.xlabel(\"p\")\n",
        "  plt.ylabel(\"q\")\n",
        "  plt.plot()\n",
        "\n",
        "non_linear_pendulum()\n"
      ],
      "execution_count": 81,
      "outputs": [
        {
          "output_type": "display_data",
          "data": {
            "image/png": "[encoded data removed]",
            "text/plain": [
              "<Figure size 432x288 with 1 Axes>"
            ]
          },
          "metadata": {
            "tags": [],
            "needs_background": "light"
          }
        }
      ]
    },
    {
      "cell_type": "code",
      "metadata": {
        "id": "MN8yxil66Wnm",
        "outputId": "51860192-b081-4a50-ed67-ba13deb61678",
        "colab": {
          "base_uri": "https://localhost:8080/",
          "height": 279
        }
      },
      "source": [
        "def dV_kepler(q):\n",
        "  return -np.cos(q)\n",
        "  \n",
        "def dT_kepler(p):\n",
        "  return p\n",
        "\n",
        "\n",
        "def kepler_two_body():\n",
        "\n",
        "  q0 = np.array([0])\n",
        "  p0 = np.array([1])\n",
        "\n",
        "  T = 4\n",
        "  t0 = 0\n",
        "  h = 0.1\n",
        "  p, q, t = symplectic_euler_method(p0, q0, t0, T, h, dV_pendulum, dT_pendulum)\n",
        "\n",
        "  plt.title(\"\")\n",
        "  plt.scatter(p,q)\n",
        "  plt.plot(p[0], q[0],  linewidth=4) \n",
        "  plt.xlabel(\"p\")\n",
        "  plt.ylabel(\"q\")\n",
        "  plt.plot()\n",
        "\n",
        "pendulum()\n",
        "\n"
      ],
      "execution_count": 83,
      "outputs": [
        {
          "output_type": "display_data",
          "data": {
            "image/png": "[encoded data removed]",
            "text/plain": [
              "<Figure size 432x288 with 1 Axes>"
            ]
          },
          "metadata": {
            "tags": [],
            "needs_background": "light"
          }
        }
      ]
    },
    {
      "cell_type": "code",
      "metadata": {
        "id": "3RfAW9JlzoMv"
      },
      "source": [
        "\n",
        "\n"
      ],
      "execution_count": null,
      "outputs": []
    },
    {
      "cell_type": "code",
      "metadata": {
        "id": "E1-Bym3Bm3dc"
      },
      "source": [
        ""
      ],
      "execution_count": null,
      "outputs": []
    }
  ]
}