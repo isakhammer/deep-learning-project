{
  "nbformat": 4,
  "nbformat_minor": 0,
  "metadata": {
    "colab": {
      "name": "project1.ipynb",
      "provenance": [],
      "authorship_tag": "ABX9TyNOssg15C8KRuO8hq9yAnVk",
      "include_colab_link": true
    },
    "kernelspec": {
      "name": "python3",
      "display_name": "Python 3"
    }
  },
  "cells": [
    {
      "cell_type": "markdown",
      "metadata": {
        "id": "view-in-github",
        "colab_type": "text"
      },
      "source": [
        "<a href=\"https://colab.research.google.com/github/isakhammer/numerical-mathematics-project-2/blob/master/project2.ipynb\" target=\"_parent\"><img src=\"https://colab.research.google.com/assets/colab-badge.svg\" alt=\"Open In Colab\"/></a>"
      ]
    },
    {
      "cell_type": "markdown",
      "metadata": {
        "id": "c8N1KmBCnwvi"
      },
      "source": [
        "**Main Concept**\n",
        "\n",
        "Compare Integrators, and ODE-networks vs Hamilton Networks. \n"
      ]
    },
    {
      "cell_type": "markdown",
      "metadata": {
        "id": "79ZI4eRpjw6m"
      },
      "source": [
        "**Generate Synthetic Input Data**\n",
        "\n",
        "\n",
        "Synthetic data is \"any production data applicable to a given situation that are not obtained by direct measurement\"\n"
      ]
    },
    {
      "cell_type": "code",
      "metadata": {
        "id": "UyW3C6pmlE7l"
      },
      "source": [
        "import numpy as np\n",
        "import matplotlib.pyplot as plt"
      ],
      "execution_count": 7,
      "outputs": []
    },
    {
      "cell_type": "code",
      "metadata": {
        "id": "oZs9dEvqjzq9"
      },
      "source": [
        "\n",
        "\n",
        "\"\"\"\n",
        "Symplectic Euler Method.\n",
        "\n",
        "Notation:\n",
        "d - dimensions of p,q\n",
        "p - Generalized Coordinates\n",
        "q - Conjugate momenta\n",
        "V -  Potential energy function\n",
        "T - Kinetic energy function\n",
        "\n",
        "Input:\n",
        " p0: (d,1) numpy array of inital values\n",
        " q0: (d,1) numpy array of inital values\n",
        " t0: Inital time\n",
        " T:  Terminal time\n",
        " dV: Function dV(q)/dq\n",
        " dT: Function dT(p)/dp\n",
        "Output:\n",
        "  q: (d, N) numpy array of all values from t0,T\n",
        "  p: (d, N) numpy array of all values from t0,T\n",
        "  t: (1, N) numpy array for time\n",
        "\n",
        "\"\"\"\n",
        "\n",
        "def symplectic_euler_method(p0, q0, t0, T, h, dV, dT):\n",
        "  \n",
        "  N = int(T/h)\n",
        "  p = np.zeros((p0.shape[0], N))\n",
        "  q = np.zeros((q0.shape[0], N))\n",
        "  t = np.zeros((1, N))\n",
        "\n",
        "  p[0] = p0\n",
        "  q[0] = q0\n",
        "  t[0] = t0\n",
        "\n",
        "  for i in range(N):\n",
        "    q[:,i] = q[:,i-1] + h*dT(p[:,i-1])\n",
        "    p[: n,i] = p[:,i-1] - h*dT(q[:,i])\n",
        "    t[:,i] = t[:,i-1] + h\n",
        "\n",
        "  return p,q,t\n",
        "\n"
      ],
      "execution_count": 8,
      "outputs": []
    },
    {
      "cell_type": "markdown",
      "metadata": {
        "id": "dxzlWwhgpnO6"
      },
      "source": [
        "Størmer-Verlet is formulated as \n",
        "$$\n",
        "\\begin{align}\n",
        "p_{n+1/2} &= p_n - \\frac{\\Delta t}{2} \\frac{\\partial V}{\\partial q} (q_n) \\\\\n",
        "q_{n+1} &= q_n + \\Delta t \\frac{\\partial T}{\\partial p} (p_{n + 1/2}) \\\\\n",
        "p_{n+1} &= p_{n + 1/2} - \\frac{\\Delta t}{2} \\frac{\\partial V}{\\partial q} (q_{n+1})\n",
        "\\end{align}\n",
        "$$\n",
        "\n",
        "Source: Equation (14) in the project description."
      ]
    },
    {
      "cell_type": "code",
      "metadata": {
        "id": "FB99pHdEuX5k"
      },
      "source": [
        "\n",
        "\"\"\"\n",
        "Stormler Vermet.\n",
        "\n",
        "Notation:\n",
        "d - dimensions of p,q\n",
        "p - Generalized Coordinates\n",
        "q - Conjugate momenta\n",
        "V -  Potential energy function\n",
        "T - Kinetic energy function\n",
        "\n",
        "Input:\n",
        " p0: (d,1) numpy array of inital values\n",
        " q0: (d,1) numpy array of inital values\n",
        " t0: Inital time\n",
        " T:  Terminal time\n",
        " dV: Function dV(q)/dq\n",
        " dT: Function dT(p)/dp\n",
        "Output:\n",
        "  q: (d, N) numpy array of all values from t0,T\n",
        "  p: (d, N) numpy array of all values from t0,T\n",
        "  t: (1, N) numpy array for time\n",
        "\n",
        "\"\"\"\n",
        "\n",
        "def stormer_verlet(p0, q0, t0, T, h, dV, dT):\n",
        "  \n",
        "  N = int(T/h)\n",
        "  p = np.zeros((p0.shape[0], N))\n",
        "  q = np.zeros((q0.shape[0], N))\n",
        "  t = np.zeros((1, N))\n",
        "\n",
        "  p[0] = p0\n",
        "  q[0] = q0\n",
        "  t[0] = t0\n",
        "\n",
        "  for i in range(N):\n",
        "    phat = p[:,i-1] - 0.5*h*dV(q[:,i-1])\n",
        "    q[:, i] = q[:, i-1] + h*dT(phat)\n",
        "    p[:, i] = phat - 0.5*h*dT(q[:,i])\n",
        "    t[:,i] = t[:,i-1] + h\n",
        "\n",
        "  return p,q,t"
      ],
      "execution_count": 9,
      "outputs": []
    },
    {
      "cell_type": "markdown",
      "metadata": {
        "id": "kj4AzdxiwHYX"
      },
      "source": [
        "\n",
        "**Non-linear Pendulum Example**\n",
        "\n",
        "Let the hamiltion function be\n",
        "$$\n",
        "H(p,q) = T(p,q) + V(p,q) = (1/2)\\cdot p^T p - cos(q) \n",
        "$$\n",
        "then is the derivates mentioned as\n",
        "\n",
        "$$\n",
        "\\begin{align}\n",
        "\\frac{\\partial H (p,q)}{ \\partial p} &= \\frac{\\partial T (p,q)}{ \\partial p} = p \\\\\n",
        "\\frac{\\partial H (p,q)}{ \\partial q} &= \\frac{\\partial V (p,q)}{ \\partial q} = cos(q)\n",
        "\\end{align}\n",
        "$$\n"
      ]
    },
    {
      "cell_type": "code",
      "metadata": {
        "id": "0qnF6ozRrkDI",
        "outputId": "e90d4c08-e3f7-4164-b9bf-7aea4c79e20d",
        "colab": {
          "base_uri": "https://localhost:8080/",
          "height": 279
        }
      },
      "source": [
        "def dV_pendulum(q):\n",
        "  return -np.cos(q)\n",
        "\n",
        "def dT_pendulum(p):\n",
        "  return p\n",
        "\n",
        "\n",
        "def non_linear_pendulum():\n",
        "  \n",
        "  q0 = np.array([0])\n",
        "  p0 = np.array([1])\n",
        "\n",
        "  T = 4\n",
        "  t0 = 0\n",
        "  h = 0.1\n",
        "  p, q, t = stormer_verlet(p0, q0, t0, T, h, dV_pendulum, dT_pendulum)\n",
        "\n",
        "  plt.title(\"\")\n",
        "  plt.scatter(p,q)\n",
        "  plt.plot(p[0], q[0],  linewidth=4) \n",
        "  plt.xlabel(\"p\")\n",
        "  plt.ylabel(\"q\")\n",
        "  plt.plot()\n",
        "\n",
        "non_linear_pendulum()\n"
      ],
      "execution_count": 10,
      "outputs": [
        {
          "output_type": "display_data",
          "data": {
            "image/png": "[encoded data removed]",
            "text/plain": [
              "<Figure size 432x288 with 1 Axes>"
            ]
          },
          "metadata": {
            "tags": [],
            "needs_background": "light"
          }
        }
      ]
    },
    {
      "cell_type": "markdown",
      "metadata": {
        "id": "37DeVjpQhsMy"
      },
      "source": [
        "\n",
        "\n",
        "\n",
        "**Notes on the Neural Network Implementation**\n",
        "\n",
        "\n",
        "Let the output of layer $k$ be $Z_k \\in  \\mathbb{R}^{N \\times D_k }$ , where $N$ is the number of input samples and $D_k$ is the number of dimensions of the output. Then is the output of layer $k+1$ defined such that\n",
        "$$\n",
        "Z^{(k+1)} = \\sigma(  Z^{(k)} W_{k+1} + b_{k+1})\n",
        "$$\n",
        "Here is $D_{k+1}$ the dimension of the output (number of nodes), the weight matrix $W_{k+1} \\in \\mathbb{R}^{ D_{k} \\times D_{k+1} } $, the output $Z^{(k+1)} \\in  \\mathbb{R}^{N \\times D_{k+1} }$ and the activation function $\\sigma:  \\mathbb{R} \\mapsto \\mathbb{R} $ which applied element wise. Observe that the bias $b_{k+1} \\in  \\mathbb{R}^{1 \\times D_{k+1} } $ is added row wise for all $N$ rows.\n",
        "\n",
        "The forward propogation in the neural network is constructed by stacking layers. Let us define the input $Z^{0} \\in  \\mathbb{R}^{ N \\times D_0 }$ and output $Z^{(K)}\\in  \\mathbb{R}^{ N \\times 1 } $ for $K$ layers, then is the stacking \n",
        "\n",
        "$$\n",
        "\\begin{align*}\n",
        "Z^{(1)} &= \\sigma( Z^{(0)} W_{1} + b_{1}) \\\\\n",
        "&\\vdots \\\\\n",
        "Z^{(k+1)} &= \\sigma( Z^{(k)} W_{k+1}  + b_{k+1}) \\\\\n",
        "&\\vdots \\\\\n",
        "Z^{(K)} &= \\eta(Z^{(K-1)}  W_{K} + b_{K}). \n",
        "\\end{align*}\n",
        "$$\n",
        "\n",
        "Notice the alternative activation function $\\eta:  \\mathbb{R} \\mapsto \\mathbb{R} $ for the $K$-th layer. Also note that the project description is evalutating the case where $N=1$, and therefore use notation $ w  z_{K-1} + \\mu$, with the dimensions $w \\in \\mathbb{R}^{D_{K-1} \\times 1} $ and $\\mu \\in \\mathbb{R} $, for the last layer. However, since we work with $N>1$ and the output has to match the requirement $Z^{(K)}\\in  \\mathbb{R}^{ N \\times 1 } $, and therefore will continue using the notation $W_{K} \\in \\mathbb{R}^{D_{K-1} \\times 1} $, and $b_{K} \\in \\mathbb{R} $ for convenience.\n",
        "\n",
        "\n",
        "\n",
        "\n",
        "\n"
      ]
    },
    {
      "cell_type": "code",
      "metadata": {
        "id": "DKFPZJgM6YrS",
        "outputId": "177eee70-66c5-4c7e-b98a-da8aff6808eb",
        "colab": {
          "base_uri": "https://localhost:8080/",
          "height": 545
        }
      },
      "source": [
        "import random as r\n",
        "import sys\n",
        "\n",
        "\n",
        "def sigma(x, derivative=False):\n",
        "  if (derivative):\n",
        "    return np.sech(x)**2\n",
        "  return np.tanh(x)\n",
        "\n",
        "def mu(x, derivative=False):\n",
        "  if (derivative):\n",
        "    return (1/4)*np.sech(x/2)**2\n",
        "  return 0.5*(1 + np.tanh(x*0.5))\n",
        "\n",
        "\"\"\"\n",
        "Layer\n",
        "\n",
        "Class containing the low level functionality for a invidual layer.\n",
        "\"\"\"\n",
        "class Layer:\n",
        "  \"\"\"\n",
        "  Input:\n",
        "    dim_in: Dimension for input \n",
        "    n_nodes: Number of nodes\n",
        "    activation: activation function.\n",
        "  \"\"\"\n",
        "  def __init__(self, \n",
        "               dim_in,\n",
        "               n_nodes,\n",
        "               activation):  \n",
        "    self.W = 2*np.random.random((dim_in, n_nodes)) - 1\n",
        "    self.b = 2*np.random.random((1, n_nodes)) \n",
        "    self.activation = activation\n",
        "\n",
        "  \"\"\"\n",
        "  Computes the output of the layer\n",
        "\n",
        "  Input: \n",
        "    Z: Numpy array of shape (1, dim_in)\n",
        "    residual: Allow ResNet architecture.\n",
        "  \n",
        "  Output: \n",
        "    Numpy array of shape (1, dim_out) of computed output from layer.   \n",
        "  \"\"\"\n",
        "  def output(self, Z, residual=False):\n",
        "    \n",
        "    if (Z.shape[1]) != (self.W.shape[0]):\n",
        "      print(\"Layer: Wrong input dimension of Z: \", Z.shape, \" not multiplicable with W: \", self.W.shape)\n",
        "      sys.exit(\"Exiting.\")\n",
        "    if (residual):\n",
        "      return self.activation(np.dot( Z, self.W) + self.b) + Z \n",
        "    \n",
        "    return self.activation(np.dot( Z, self.W) + self.b) \n",
        "\n",
        "\"\"\"\n",
        "Neural Net\n",
        "\n",
        "Class containing the high level functionality combining all layers.\n",
        "\"\"\"\n",
        "class NN:\n",
        "  \"\"\"\n",
        "  Input:\n",
        "  dim_in: Dimension of input vector to the neural net.\n",
        "  dim_out: Dimension of output vector from the neural net.\n",
        "  K: Number of layers\n",
        "  L: Number of nodes per layer (same as dim_out in Layer class).\n",
        "  \"\"\"\n",
        "  def __init__(self):\n",
        "    self.layers = []\n",
        "   \n",
        "  \"\"\"\n",
        "  Basic function for adding a layer into a class.\n",
        "  \n",
        "  Input:\n",
        "  dim_in: Dimension of input vector to the neural net.\n",
        "  n_nodes: Number of nodes \n",
        "  \"\"\"\n",
        "  def add_layer(self, \n",
        "                dim_in,\n",
        "                n_nodes,\n",
        "                activation):\n",
        "    self.layers.append(Layer( dim_in, n_nodes, activation))\n",
        "  \n",
        "  def forward_prop(self, Z):\n",
        "    for layer_i in self.layers:\n",
        "      Z = layer_i.output(Z)\n",
        "    return Z\n",
        "  \n",
        "  \n",
        "  def grad_j(self, Z, Y):\n",
        "    r =  np.linalg.norm(self.forward_prop(Z) - Y) \n",
        "    \n",
        "    # Formulate variable vector Theta\n",
        "    Th = {}\n",
        "\n",
        "    for k in range(0, len(self.layers)):\n",
        "      l_i = self.layers[k]\n",
        "      Th[\"th_\"+str(k)] = np.zeros(( l_i.W.shape[0]*l_i.W.shape[1] +  l_i.b.shape[1], 1))\n",
        "\n",
        "    return Z\n",
        "  \n",
        "\"\"\"\n",
        "FUNCTIONALITY TESTS\n",
        "\"\"\"\n",
        "def layer_test():\n",
        "\n",
        "  Z = np.array([ \n",
        "              [0,0,1],\n",
        "              [1,1,1],\n",
        "              [1,1,4]])\n",
        "  n_nodes = 1\n",
        "  l = Layer( dim_in=3, n_nodes=n_nodes, activation=sigma)\n",
        "  out= l.output(Z)\n",
        "  \n",
        "  print(\"--- LAYER TEST --- \\n\")\n",
        "  print(\"Input \", Z.shape,\": \\n\", Z )\n",
        "  print(\"\\n n_nodes: \",n_nodes ,\"Output:\", out.shape, \"\\n\", out)\n",
        "\n",
        "def forward_prop_test():\n",
        "  Z = np.array([ \n",
        "              [0,0,1],\n",
        "              [0,1,1],\n",
        "              [1,1,4]])\n",
        "  \n",
        "  net = NN()\n",
        "  net.add_layer( dim_in=3, n_nodes=3, activation=sigma)\n",
        "  net.add_layer( dim_in=3, n_nodes=3, activation=sigma)\n",
        "  net.add_layer( dim_in=3, n_nodes=1, activation=mu)\n",
        "  F = net.forward_prop(Z)\n",
        "\n",
        "  print(\"\\n --- NN FORWARD PROPOGATION TEST --- \\n\")\n",
        "  print(\"Input \", Z.shape,\": \\n\", Z )\n",
        "  print(\"\\nOutput \", F.shape,\": \\n\", F )\n",
        "\n",
        "def grad_j_test():\n",
        "  Z = np.array([ \n",
        "              [0,0,1],\n",
        "              [0,1,1],\n",
        "              [1,1,4]])\n",
        "  Y = np.array([[ 1,0,1 ]]).T\n",
        "    \n",
        "  net = NN()\n",
        "  net.add_layer( dim_in=3, n_nodes=1, activation=mu)\n",
        "  F = net.grad_j(Z,Y)\n",
        "  print(\"\\n --- NN GRAD J TEST --- \\n\")\n",
        "  print(F)\n",
        "\n",
        "layer_test()\n",
        "forward_prop_test()\n",
        "grad_j_test()\n"
      ],
      "execution_count": 58,
      "outputs": [
        {
          "output_type": "stream",
          "text": [
            "--- LAYER TEST --- \n",
            "\n",
            "Input  (3, 3) : \n",
            " [[0 0 1]\n",
            " [1 1 1]\n",
            " [1 1 4]]\n",
            "\n",
            " n_nodes:  1 Output: (3, 1) \n",
            " [[0.91621444]\n",
            " [0.90079931]\n",
            " [0.27999439]]\n",
            "\n",
            " --- NN FORWARD PROPOGATION TEST --- \n",
            "\n",
            "Input  (3, 3) : \n",
            " [[0 0 1]\n",
            " [0 1 1]\n",
            " [1 1 4]]\n",
            "\n",
            "Output  (3, 1) : \n",
            " [[0.60511886]\n",
            " [0.60998274]\n",
            " [0.6535746 ]]\n",
            "\n",
            " --- NN GRAD J TEST --- \n",
            "\n",
            "[[0 0 1]\n",
            " [0 1 1]\n",
            " [1 1 4]]\n"
          ],
          "name": "stdout"
        }
      ]
    },
    {
      "cell_type": "code",
      "metadata": {
        "id": "E1-Bym3Bm3dc"
      },
      "source": [
        ""
      ],
      "execution_count": 12,
      "outputs": []
    }
  ]
}