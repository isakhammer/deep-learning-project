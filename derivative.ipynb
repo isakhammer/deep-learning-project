{
  "nbformat": 4,
  "nbformat_minor": 0,
  "metadata": {
    "colab": {
      "name": "project1.ipynb",
      "provenance": [],
      "authorship_tag": "ABX9TyP/WfAGSLauaBjqXqIKu1cA",
      "include_colab_link": true
    },
    "kernelspec": {
      "name": "python3",
      "display_name": "Python 3"
    }
  },
  "cells": [
    {
      "cell_type": "markdown",
      "metadata": {
        "id": "view-in-github",
        "colab_type": "text"
      },
      "source": [
        "<a href=\"https://colab.research.google.com/github/isakhammer/deep_learning_project/blob/master/derivative.ipynb\" target=\"_parent\"><img src=\"https://colab.research.google.com/assets/colab-badge.svg\" alt=\"Open In Colab\"/></a>"
      ]
    },
    {
      "cell_type": "markdown",
      "metadata": {
        "id": "kj4AzdxiwHYX"
      },
      "source": [
        "\n",
        "\n",
        "Define the functions\n",
        "\n",
        "$$\n",
        "\\begin{align}\n",
        "\\Upsilon(y) &= \\eta( (z^{(k)})^T w + \\mu  )   \\\\\n",
        "z^{(k)} &=  h\\sigma(W_kz^{(k-1)} + b_k  )  + z^{(k-1)} \\\\\n",
        "z^{(0)} &= y  \n",
        "\\end{align}\n",
        "$$\n",
        "where \n",
        "$$\n",
        "\\begin{align}\n",
        "\\nabla_y \\Upsilon & = \\eta' ( (z^{(K)})^T w + \\mu) \\circ ( w^T \\nabla_y z^{(K)}) \\\\\n",
        "\\nabla_y z^{(k)} &   = [  h \\sigma' (W_kz^{(k-1)} + b_k  ) W_k  + \\mathbf{1}] \\circ\\nabla_{y}z^{(k-1)} \\\\ \n",
        "\\nabla_y z^{(0)} &   =  \\nabla_y y    = I\n",
        "\\end{align}\n",
        "$$\n"
      ]
    },
    {
      "cell_type": "markdown",
      "metadata": {
        "id": "B3viuQVeTLNq"
      },
      "source": [
        ""
      ]
    }
  ]
}