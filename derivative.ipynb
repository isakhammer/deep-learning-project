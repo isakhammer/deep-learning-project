{
  "nbformat": 4,
  "nbformat_minor": 0,
  "metadata": {
    "colab": {
      "name": "project1.ipynb",
      "provenance": [],
      "authorship_tag": "ABX9TyPt3H9ArrMUVneYoqn8CuXd",
      "include_colab_link": true
    },
    "kernelspec": {
      "name": "python3",
      "display_name": "Python 3"
    }
  },
  "cells": [
    {
      "cell_type": "markdown",
      "metadata": {
        "id": "view-in-github",
        "colab_type": "text"
      },
      "source": [
        "<a href=\"https://colab.research.google.com/github/isakhammer/deep_learning_project/blob/master/derivative.ipynb\" target=\"_parent\"><img src=\"https://colab.research.google.com/assets/colab-badge.svg\" alt=\"Open In Colab\"/></a>"
      ]
    },
    {
      "cell_type": "markdown",
      "metadata": {
        "id": "kj4AzdxiwHYX"
      },
      "source": [
        "**VERSION 1.0**\n",
        "\n",
        "Let $$ d \\ge d_0 $$ and define the functions\n",
        "\n",
        "$$\n",
        "\\begin{align}\n",
        "\\Upsilon(y) &= \\eta( (z^{(k)})^T w + \\mu  ),  &\\Upsilon(y) : \\mathbb{R}^{d_0 \\times 1} \\mapsto  \\mathbb{R}^{ 1  \\times 1} \\\\\n",
        "z^{(k)} &=  h\\sigma(W_kz^{(k-1)} + b_k  )  + z^{(k-1)},  &z^{(k)} \\in \\mathbb{R}^{ d \\times 1}  \\\\\n",
        "z^{(0)} &=  \\hat{I} y,    &y \\in \\mathbb{R}^{d_0 \\times 1}, \\hat{I} \\in \\mathbb{R}^{d \\times d_0} \\\\\n",
        "\\end{align}\n",
        "$$\n",
        "where \n",
        "$$\n",
        "\\begin{align}\n",
        "\\nabla_y \\Upsilon (y) & = \\eta' ( (z^{(K)})^T w + \\mu) \\cdot ( w^T \\nabla_y z^{(K)}), \\quad  &\\nabla_y \\Upsilon(y): \\mathbb{R}^{d_0 \\times 1} \\mapsto  \\mathbb{R}^{ 1  \\times d_0} \\\\\n",
        "\\nabla_y z^{(k)} &   =   h \\sigma' (W_kz^{(k-1)} + b_k  ) W_k \\nabla_{y}z^{(k-1)}  + \\nabla_{y}z^{(k-1)} & \\nabla_y z^{(k)} \\in \\mathbb{R}^{d \\times d_0} \\\\\n",
        "\\nabla_y z^{(0)} &   =  \\hat{I}  \\nabla_y y    = \\hat{I}\n",
        "\\end{align}\n",
        "$$\n",
        "\n",
        "\n"
      ]
    },
    {
      "cell_type": "markdown",
      "metadata": {
        "id": "B3viuQVeTLNq"
      },
      "source": [
        "**VERSION 2.0**\n",
        "\n",
        "\n",
        "\n",
        "Let \n",
        "$$\n",
        "A_{K} = \\nabla G(Z^K) = \\eta'( w^T Z^{(K)} + \\mu) w\n",
        "$$\n",
        "\n",
        "for  $k$ in range $(K,0,-1)$:\n",
        "$$\n",
        "\\begin{split}\n",
        "A_{k-1}  &= (D \\Phi_{k-1} (Z^{k-1})  )^T A_{k} \\\\\n",
        "   &= A_{k} + W_{k-1}^T( h \\sigma ' (W_{k-1} Z^{(k-1)} + b_k) \\circ A_{k})\n",
        "\\end{split}\n",
        "$$\n",
        "We can define the result as\n",
        "$$\n",
        "\\nabla \\tilde{F} =  \\prod_{k = 0} ^K A_i\n",
        "$$"
      ]
    }
  ]
}