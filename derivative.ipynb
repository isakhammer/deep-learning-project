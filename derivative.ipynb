{
  "nbformat": 4,
  "nbformat_minor": 0,
  "metadata": {
    "colab": {
      "name": "project1.ipynb",
      "provenance": [],
      "authorship_tag": "ABX9TyM0/rVeYjZm4EQX/eYn/6kh",
      "include_colab_link": true
    },
    "kernelspec": {
      "name": "python3",
      "display_name": "Python 3"
    }
  },
  "cells": [
    {
      "cell_type": "markdown",
      "metadata": {
        "id": "view-in-github",
        "colab_type": "text"
      },
      "source": [
        "<a href=\"https://colab.research.google.com/github/isakhammer/deep_learning_project/blob/master/derivative.ipynb\" target=\"_parent\"><img src=\"https://colab.research.google.com/assets/colab-badge.svg\" alt=\"Open In Colab\"/></a>"
      ]
    },
    {
      "cell_type": "markdown",
      "metadata": {
        "id": "kj4AzdxiwHYX"
      },
      "source": [
        "\n",
        "\n",
        "Define the functions\n",
        "\n",
        "$$\n",
        "\\begin{align}\n",
        "\\Upsilon(Y) &= \\eta( (Z^{(k)})^T w + \\mu  )   \\\\\n",
        "Z^{(k)} &=  \\sigma(W_kZ^{(k-1)} + b_k  )  + Z^{(k-1)} \\\\\n",
        "Z^{(0)} &= Y  \n",
        "\\end{align}\n",
        "$$\n",
        "where \n",
        "$$\n",
        "\\begin{align}\n",
        "\\nabla_Y \\Upsilon & = \\eta' ( (Z^{(K)})^T w + \\mu) \\cdot w^T \\nabla_Y Z^{(K)} \\\\\n",
        "\\nabla_Y Z^{(K)} & = \\sigma' (W_kZ^{(k-1)} + b_k  ) W_k \\nabla_Y Z^{(k-1)}  + \\nabla_{Y}Z^{(k-1)}\\\\\n",
        "\\end{align}\n",
        "$$\n"
      ]
    },
    {
      "cell_type": "markdown",
      "metadata": {
        "id": "B3viuQVeTLNq"
      },
      "source": [
        ""
      ]
    }
  ]
}